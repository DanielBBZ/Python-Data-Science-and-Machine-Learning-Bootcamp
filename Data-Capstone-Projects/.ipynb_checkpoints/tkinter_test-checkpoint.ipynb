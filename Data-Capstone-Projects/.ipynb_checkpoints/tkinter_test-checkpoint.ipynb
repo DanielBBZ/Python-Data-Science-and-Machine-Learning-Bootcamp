{
 "cells": [
  {
   "cell_type": "code",
   "execution_count": 1,
   "metadata": {},
   "outputs": [],
   "source": [
    "import tkinter as tk"
   ]
  },
  {
   "cell_type": "code",
   "execution_count": 17,
   "metadata": {},
   "outputs": [],
   "source": [
    "window = tk.Tk()\n",
    "\n",
    "window.title(\"My App\")\n",
    "\n",
    "window.geometry(\"400x400\")\n",
    "\n",
    "# Label\n",
    "title = tk.Label(text=\"Hello World, welcome to my first APP!\", font=(\"Times New Roman\", 15))\n",
    "title.grid(column=0, row=0)\n",
    "\n",
    "#Button\n",
    "button1 = tk.Button(text=\"clik me!\")\n",
    "button1.grid(column=0, row=1)\n",
    "\n",
    "#Entry field\n",
    "entry_field1=tk.Entry()\n",
    "entry_field1.grid(column=0, row=2)\n",
    "\n",
    "#Test field\n",
    "text_field = tk.Text(master=window, height=10, width=10)\n",
    "text_field.grid()\n",
    "\n",
    "#Make the fram appear on screen, Akin to calling a function\n",
    "window.mainloop()"
   ]
  },
  {
   "cell_type": "code",
   "execution_count": null,
   "metadata": {},
   "outputs": [],
   "source": []
  },
  {
   "cell_type": "code",
   "execution_count": 34,
   "metadata": {},
   "outputs": [],
   "source": [
    "import random\n",
    "\n",
    "window = tk.Tk()\n",
    "\n",
    "window.title(\"Greetings _______\")\n",
    "\n",
    "window.geometry(\"400x400\")\n",
    "\n",
    "#----Function----\n",
    "def phrase_generator():\n",
    "    \n",
    "    phrases=[\"Hello\", \"What's up\", \"Aloha\", \"Hafa Adai\"]\n",
    "    \n",
    "    name = str(entry1.get())\n",
    "    \n",
    "    return phrases[random.randint(0,3)] +\" \" + name\n",
    "\n",
    "def phrase_display():\n",
    "    greeting = phrase_generator()\n",
    "    \n",
    "    #Text creates the text fiedl\n",
    "    greeting_display = tk.Text(master=window, height=5, width=20)\n",
    "    greeting_display.grid(column=1, row=3)\n",
    "    \n",
    "    greeting_display.insert(tk.END, greeting) \n",
    "\n",
    "    \n",
    "# Label\n",
    "label1 = tk.Label(text=\"welcome to my APP!\", font=(\"Times New Roman\", 15))\n",
    "label1.grid(column=0, row=0)\n",
    "\n",
    "label2 = tk.Label(text=\"what is your name?\",font=(\"Times New Roman\", 15))\n",
    "label2.grid(column=0, row=1)\n",
    "\n",
    "#Entry field\n",
    "entry1=tk.Entry()\n",
    "entry1.grid(column=1, row=1)\n",
    "\n",
    "#Button\n",
    "button1 = tk.Button(text=\"clik me!\",font=(\"Times New Roman\", 15), command = phrase_display)\n",
    "button1.grid(column=0, row=2)\n",
    "\n",
    "#Make the fram appear on screen, Akin to calling a function\n",
    "window.mainloop()"
   ]
  },
  {
   "cell_type": "code",
   "execution_count": 30,
   "metadata": {},
   "outputs": [],
   "source": [
    "class App(tk.Frame):\n",
    "    def __init__(self, master):\n",
    "        tk.Frame.__init__(self, master)\n",
    "        self.pack()\n",
    "        self.master.title(\"Hello World\")\n",
    "\n",
    "        tk.Label(self, text=\"This is your first GUI. (highfive)\").pack()\n",
    "\n",
    "\n",
    "if __name__ == '__main__':\n",
    "    root = tk.Tk()\n",
    "    app = App(root)\n",
    "    app.mainloop()"
   ]
  },
  {
   "cell_type": "code",
   "execution_count": 33,
   "metadata": {},
   "outputs": [
    {
     "ename": "ModuleNotFoundError",
     "evalue": "No module named 'appKit'",
     "output_type": "error",
     "traceback": [
      "\u001b[1;31m---------------------------------------------------------------------------\u001b[0m",
      "\u001b[1;31mModuleNotFoundError\u001b[0m                       Traceback (most recent call last)",
      "\u001b[1;32m<ipython-input-33-8075fefa31f3>\u001b[0m in \u001b[0;36m<module>\u001b[1;34m()\u001b[0m\n\u001b[0;32m      1\u001b[0m \u001b[1;32mimport\u001b[0m \u001b[0mtkinter\u001b[0m \u001b[1;32mas\u001b[0m \u001b[0mtk\u001b[0m\u001b[1;33m\u001b[0m\u001b[0m\n\u001b[1;32m----> 2\u001b[1;33m \u001b[1;32mimport\u001b[0m \u001b[0mappKit\u001b[0m\u001b[1;33m\u001b[0m\u001b[0m\n\u001b[0m\u001b[0;32m      3\u001b[0m \u001b[1;33m\u001b[0m\u001b[0m\n\u001b[0;32m      4\u001b[0m \u001b[1;33m\u001b[0m\u001b[0m\n\u001b[0;32m      5\u001b[0m \u001b[1;32mclass\u001b[0m \u001b[0mApp\u001b[0m\u001b[1;33m(\u001b[0m\u001b[0mtk\u001b[0m\u001b[1;33m.\u001b[0m\u001b[0mFrame\u001b[0m\u001b[1;33m)\u001b[0m\u001b[1;33m:\u001b[0m\u001b[1;33m\u001b[0m\u001b[0m\n",
      "\u001b[1;31mModuleNotFoundError\u001b[0m: No module named 'appKit'"
     ]
    }
   ],
   "source": [
    "import tkinter as tk\n",
    "import appKit\n",
    "\n",
    "\n",
    "class App(tk.Frame):\n",
    "    def __init__(self, master):\n",
    "        tk.Frame.__init__(self, master)\n",
    "        self.pack()\n",
    "        self.master.title(\"Hello World\")\n",
    "        self.master.resizable(False, False)\n",
    "        self.master.tk_setPalette(background='#ececec')  # '#ececec' is the standard gray background of El Capitain\n",
    "\n",
    "        x = (self.master.winfo_screenwidth() - self.master.winfo_reqwidth()) / 2\n",
    "        y = (self.master.winfo_screenheight() - self.master.winfo_reqheight()) / 3\n",
    "        self.master.geometry(\"+{}+{}\".format(x, y))\n",
    "\n",
    "        self.master.config(menu=tk.Menu(self))\n",
    "\n",
    "        tk.Label(self, text=\"This is your first GUI. (highfive)\").pack()\n",
    "\n",
    "\n",
    "if __name__ == '__main__':\n",
    "    root = tk.Tk()\n",
    "    app = App(root)\n",
    "    AppKit.NSApplication.sharedApplication().activateIgnoringOtherApps_(True)\n",
    "    app.mainloop()"
   ]
  },
  {
   "cell_type": "code",
   "execution_count": null,
   "metadata": {},
   "outputs": [],
   "source": []
  }
 ],
 "metadata": {
  "kernelspec": {
   "display_name": "Python 3",
   "language": "python",
   "name": "python3"
  },
  "language_info": {
   "codemirror_mode": {
    "name": "ipython",
    "version": 3
   },
   "file_extension": ".py",
   "mimetype": "text/x-python",
   "name": "python",
   "nbconvert_exporter": "python",
   "pygments_lexer": "ipython3",
   "version": "3.6.4"
  }
 },
 "nbformat": 4,
 "nbformat_minor": 2
}
